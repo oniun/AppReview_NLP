{
 "cells": [
  {
   "cell_type": "code",
   "execution_count": 1,
   "metadata": {
    "collapsed": true
   },
   "outputs": [],
   "source": [
    "import pandas as pd\n",
    "import numpy as np\n",
    "import re\n",
    "\n",
    "reviews = pd.read_csv('data/dataset.csv', encoding='utf8')\n",
    "neg_reviews = reviews[(reviews['rate'] == 1) | (reviews['rate'] == 2) | (reviews['rate'] == 3) | (reviews['rate'] == 4)]\n",
    "\n",
    "docs = neg_reviews['review']"
   ]
  },
  {
   "cell_type": "code",
   "execution_count": 2,
   "metadata": {
    "collapsed": true
   },
   "outputs": [],
   "source": [
    "from sklearn.feature_extraction.text import CountVectorizer\n",
    "from sklearn.feature_extraction.text import TfidfTransformer, TfidfVectorizer\n",
    "from sklearn.naive_bayes import MultinomialNB\n",
    "from sklearn.linear_model import LogisticRegression\n",
    "from sklearn.metrics import accuracy_score, classification_report\n",
    "from sklearn.model_selection import cross_val_score\n",
    "from sklearn.ensemble import RandomForestClassifier\n",
    "import xgboost\n",
    "from sklearn.pipeline import Pipeline\n",
    "from nltk.corpus import stopwords\n",
    "from konlpy.tag import Twitter, Mecab, Komoran\n",
    "from soynlp.tokenizer import RegexTokenizer, LTokenizer, MaxScoreTokenizer\n",
    "\n",
    "mecab = Mecab()\n",
    "twitter = Twitter()\n",
    "komoran = Komoran()\n",
    "\n",
    "def mecab_tokenizer(text):\n",
    "    return [t for t in mecab.morphs(text)]\n",
    "\n",
    "def twit_tokenizer(text):\n",
    "    return [t for t in twitter.morphs(text, norm=True, stem=True)]\n",
    "\n",
    "def komoran_tokenizer(text):\n",
    "    return [t for t in komoran.morphs(text)]\n",
    "\n",
    "def max_tokenizer(text):\n",
    "    tokenizer=MaxScoreTokenizer()\n",
    "    return tokenizer.tokenize(text)"
   ]
  },
  {
   "cell_type": "code",
   "execution_count": 3,
   "metadata": {},
   "outputs": [
    {
     "name": "stdout",
     "output_type": "stream",
     "text": [
      "CPU times: user 12.2 s, sys: 90.3 ms, total: 12.3 s\n",
      "Wall time: 12.3 s\n"
     ]
    }
   ],
   "source": [
    "%%time\n",
    "train_docs = [row for row in docs]\n",
    "sentences = [max_tokenizer(d) for d in train_docs]"
   ]
  },
  {
   "cell_type": "code",
   "execution_count": 4,
   "metadata": {
    "collapsed": true
   },
   "outputs": [],
   "source": [
    "import gensim\n",
    "from gensim import models\n",
    "from gensim import corpora\n",
    "from gensim.models import doc2vec\n",
    "from gensim.models.doc2vec import TaggedDocument\n",
    "from gensim.models import word2vec, Word2Vec"
   ]
  },
  {
   "cell_type": "code",
   "execution_count": 5,
   "metadata": {},
   "outputs": [
    {
     "name": "stdout",
     "output_type": "stream",
     "text": [
      "CPU times: user 4min 34s, sys: 1.13 s, total: 4min 36s\n",
      "Wall time: 57.4 s\n"
     ]
    }
   ],
   "source": [
    "%%time\n",
    "model = word2vec.Word2Vec(sentences, size=100, min_count=3, window=3, workers=8, iter=100, sg=1)\n",
    "model.init_sims(replace=True)"
   ]
  },
  {
   "cell_type": "code",
   "execution_count": 6,
   "metadata": {},
   "outputs": [
    {
     "data": {
      "text/plain": [
       "[('심해요...', 0.574049174785614),\n",
       " ('다른앱', 0.5618752241134644),\n",
       " ('고쳐야', 0.5403777360916138),\n",
       " ('2초에', 0.5397657155990601),\n",
       " ('너어무', 0.537325382232666),\n",
       " ('조작법', 0.5326470732688904),\n",
       " ('소비자들을', 0.5323509573936462),\n",
       " ('요새는', 0.5305172204971313),\n",
       " ('전체화면에', 0.5213994979858398),\n",
       " ('않구요.', 0.5181449055671692),\n",
       " ('개선되나요?', 0.5142256021499634),\n",
       " ('사용량이', 0.5110517740249634),\n",
       " ('자체도', 0.5085805654525757),\n",
       " ('느리기도', 0.5000627040863037),\n",
       " ('멈추면서', 0.49874767661094666),\n",
       " ('없지만,', 0.4986870586872101),\n",
       " ('무한로딩,', 0.49834316968917847),\n",
       " ('5분마다', 0.49690020084381104),\n",
       " ('느림...', 0.4968810975551605),\n",
       " ('그렇습니다..', 0.4962446391582489)]"
      ]
     },
     "execution_count": 6,
     "metadata": {},
     "output_type": "execute_result"
    }
   ],
   "source": [
    "model.most_similar(positive='사양', topn=20)"
   ]
  },
  {
   "cell_type": "code",
   "execution_count": 8,
   "metadata": {
    "collapsed": true
   },
   "outputs": [],
   "source": [
    "a = model.syn1neg"
   ]
  },
  {
   "cell_type": "code",
   "execution_count": 14,
   "metadata": {
    "collapsed": true
   },
   "outputs": [],
   "source": [
    "word = list(model.wv.vocab.keys())\n",
    "words = pd.Series(word)"
   ]
  },
  {
   "cell_type": "code",
   "execution_count": 15,
   "metadata": {},
   "outputs": [
    {
     "data": {
      "text/plain": [
       "'오늘'"
      ]
     },
     "execution_count": 15,
     "metadata": {},
     "output_type": "execute_result"
    }
   ],
   "source": [
    "words[0]"
   ]
  },
  {
   "cell_type": "code",
   "execution_count": 11,
   "metadata": {},
   "outputs": [
    {
     "data": {
      "text/plain": [
       "(28232, 100)"
      ]
     },
     "execution_count": 11,
     "metadata": {},
     "output_type": "execute_result"
    }
   ],
   "source": [
    "a.shape"
   ]
  },
  {
   "cell_type": "code",
   "execution_count": null,
   "metadata": {},
   "outputs": [],
   "source": [
    "%%time\n",
    "ttm = pd.DataFrame()\n",
    "for num, i in enumerate(range(len(a))):\n",
    "    dists = list()\n",
    "    for j in range(len(a)):\n",
    "        dist = np.linalg.norm(a[i]-a[j])\n",
    "        dists.append(dist)\n",
    "    \n",
    "    ttm[words[num]] = dists"
   ]
  },
  {
   "cell_type": "code",
   "execution_count": null,
   "metadata": {},
   "outputs": [],
   "source": [
    "ttm.set_index(words)"
   ]
  },
  {
   "cell_type": "code",
   "execution_count": null,
   "metadata": {
    "collapsed": true
   },
   "outputs": [],
   "source": [
    "ttm.to_csv(\"distance_matrix.csv\", index=False)"
   ]
  }
 ],
 "metadata": {
  "kernelspec": {
   "display_name": "Python 3",
   "language": "python",
   "name": "python3"
  },
  "language_info": {
   "codemirror_mode": {
    "name": "ipython",
    "version": 3
   },
   "file_extension": ".py",
   "mimetype": "text/x-python",
   "name": "python",
   "nbconvert_exporter": "python",
   "pygments_lexer": "ipython3",
   "version": "3.6.2"
  }
 },
 "nbformat": 4,
 "nbformat_minor": 2
}
