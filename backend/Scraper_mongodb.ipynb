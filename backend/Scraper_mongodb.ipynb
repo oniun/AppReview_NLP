{
 "cells": [
  {
   "cell_type": "code",
   "execution_count": 3,
   "metadata": {
    "collapsed": true
   },
   "outputs": [],
   "source": [
    "import os\n",
    "import time\n",
    "import re\n",
    "import pandas as pd\n",
    "import requests\n",
    "from bs4 import BeautifulSoup\n",
    "from selenium import webdriver\n",
    "import pymongo\n",
    "import json"
   ]
  },
  {
   "cell_type": "markdown",
   "metadata": {},
   "source": [
    "## Connect mongoDB in EC2 "
   ]
  },
  {
   "cell_type": "code",
   "execution_count": null,
   "metadata": {
    "collapsed": true
   },
   "outputs": [],
   "source": [
    "connection = pymongo.MongoClient('mongodb://{}:{}@13.125.31.93'.format(username, password))\n",
    "db = connection.app_review"
   ]
  },
  {
   "cell_type": "code",
   "execution_count": null,
   "metadata": {
    "collapsed": true
   },
   "outputs": [],
   "source": []
  },
  {
   "cell_type": "code",
   "execution_count": 128,
   "metadata": {},
   "outputs": [
    {
     "name": "stdout",
     "output_type": "stream",
     "text": [
      "https://play.google.com/store/apps/category/FINANCE/collection/topselling_free\n",
      "https://play.google.com/store/apps/category/SHOPPING/collection/topselling_free\n",
      "https://play.google.com/store/apps/category/SPORTS/collection/topselling_free\n",
      "https://play.google.com/store/apps/category/VIDEO_PLAYERS/collection/topselling_free\n",
      "https://play.google.com/store/apps/category/MEDICAL/collection/topselling_free\n",
      "https://play.google.com/store/apps/category/TRAVEL_AND_LOCAL/collection/topselling_free\n",
      "https://play.google.com/store/apps/category/NEWS_AND_MAGEZINES/collection/topselling_free\n",
      "https://play.google.com/store/apps/category/COMICS/collection/topselling_free\n",
      "https://play.google.com/store/apps/category/DATING/collection/topselling_free\n",
      "https://play.google.com/store/apps/category/BOOKS_AND_REFERENCE/collection/topselling_free\n",
      "https://play.google.com/store/apps/category/BEAUTY/collection/topselling_free\n",
      "https://play.google.com/store/apps/category/AUTO_AND_VEHICLES/collection/topselling_free\n",
      "https://play.google.com/store/apps/category/PARENTING/collection/topselling_free\n",
      "https://play.google.com/store/apps/collection/topgrossing\n",
      "https://play.google.com/store/apps/collection/topselling_free\n",
      "https://play.google.com/store/apps/collection/topselling_paid\n"
     ]
    }
   ],
   "source": [
    "BASEURL = 'https://play.google.com/store/apps/category/'\n",
    "category = ['FINANCE', 'SHOPPING', 'SPORTS', 'VIDEO_PLAYERS',\n",
    "            'MEDICAL', 'TRAVEL_AND_LOCAL', 'NEWS_AND_MAGEZINES', \n",
    "            'COMICS', 'DATING', 'BOOKS_AND_REFERENCE', 'BEAUTY',\n",
    "           'AUTO_AND_VEHICLES', 'PARENTING']\n",
    "ENDURL = '/collection/topselling_free'\n",
    "\n",
    "GROSSING = 'https://play.google.com/store/apps/collection/topgrossing'\n",
    "FREE = 'https://play.google.com/store/apps/collection/topselling_free'\n",
    "PAID = 'https://play.google.com/store/apps/collection/topselling_paid'\n",
    "\n",
    "target_url = list()\n",
    "for item in category:\n",
    "    target_url.append(BASEURL + str(item) + ENDURL)\n",
    "    \n",
    "target_url.append(GROSSING)\n",
    "target_url.append(FREE)\n",
    "target_url.append(PAID)\n",
    "\n",
    "for url in target_url:\n",
    "    print(url)"
   ]
  },
  {
   "cell_type": "code",
   "execution_count": 85,
   "metadata": {
    "collapsed": true
   },
   "outputs": [],
   "source": [
    "def scrape_to_db(url):\n",
    "    \n",
    "    connection = pymongo.MongoClient('mongodb://{}:{}@13.125.31.93'.format('oniun', 'wkatlf2ehd'))\n",
    "    db = connection.app_review\n",
    "    collection = db.reviews\n",
    "    \n",
    "    # PhantomJS driver실행\n",
    "    driver = webdriver.PhantomJS('PhantomJS')\n",
    "\n",
    "    # google play page를 띄움\n",
    "    driver.get(url)\n",
    "\n",
    "    SCROLL_PAUSE_TIME = 3\n",
    "    # Get Scroll Height\n",
    "    last_height = driver.execute_script(\"return document.body.scrollHeight\")\n",
    "    \n",
    "    while True:\n",
    "        #scroll down to botton\n",
    "        driver.execute_script('window.scrollTo(0, document.body.scrollHeight);')\n",
    "        #wait to load page\n",
    "        time.sleep(SCROLL_PAUSE_TIME)\n",
    "\n",
    "        #calculate new scroll height and compare with last scroll height\n",
    "        new_height = driver.execute_script(\"return document.body.scrollHeight\")\n",
    "        if new_height == last_height:\n",
    "            break\n",
    "        last_height = new_height\n",
    "\n",
    "        page_source = driver.page_source\n",
    "\n",
    "        soup = BeautifulSoup(page_source, 'html.parser')\n",
    "        rank = soup.select('div.id-card-list.card-list.two-cards > div > div > div.details > a.title')\n",
    "    \n",
    "    try:\n",
    "    \n",
    "        for num, item in enumerate(rank):\n",
    "            adders = str(item).split()[3]\n",
    "            adder = re.search('/[\\w/?=.]+', adders)\n",
    "\n",
    "            add_url = adder.group()\n",
    "\n",
    "            # app name\n",
    "            name = re.search('(?<=...)[\\w ]+', str(item.get_text()).strip(\" \"))\n",
    "            get_app = name.group()\n",
    "\n",
    "            res2 = requests.get('http://play.google.com' + str(add_url))\n",
    "            soup2 = BeautifulSoup(res2.content, 'html.parser')\n",
    "\n",
    "            users = soup2.select('div.review-info > span.author-name')\n",
    "            dates = soup2.select('div.review-info > span.review-date')\n",
    "            rates = soup2.select('div.review-info > div.review-info-star-rating')\n",
    "            reviews = soup2.select('div > div.review-body.with-review-wrapper')\n",
    "\n",
    "            for user, date, review, rate in zip(users, dates, reviews, rates):\n",
    "\n",
    "                get_user = user.get_text()\n",
    "                get_date = date.get_text()\n",
    "\n",
    "                m = re.search('\\d\\w\\w', str(rate))\n",
    "                m2 = re.search('\\d', m.group())\n",
    "\n",
    "                get_rate = m2.group()\n",
    "                get_review = review.get_text().strip(\" \").rstrip('전체 리뷰')              \n",
    "\n",
    "                post = {\n",
    "                    \"app\": get_app, \"date\": get_date, \"rate\": get_rate,\n",
    "                    \"review\": get_review, \"user\": get_user\n",
    "\n",
    "                }\n",
    "\n",
    "                collection.insert_one(post)\n",
    "                \n",
    "    except:\n",
    "        print(\"Something Wrong\")\n",
    "            \n",
    "    \n",
    "    driver.close()\n",
    "    driver.quit()\n",
    "    connection.close()\n",
    "    \n",
    "    return \"Mission Completed\""
   ]
  },
  {
   "cell_type": "code",
   "execution_count": 87,
   "metadata": {},
   "outputs": [
    {
     "name": "stdout",
     "output_type": "stream",
     "text": [
      "Something Wrong\n",
      "CPU times: user 5min 15s, sys: 2.18 s, total: 5min 17s\n",
      "Wall time: 11min 54s\n"
     ]
    },
    {
     "data": {
      "text/plain": [
       "'Mission Completed'"
      ]
     },
     "execution_count": 87,
     "metadata": {},
     "output_type": "execute_result"
    }
   ],
   "source": [
    "%%time\n",
    "scrape_to_db('https://play.google.com/store/apps/category/PARENTING/collection/topselling_free')"
   ]
  },
  {
   "cell_type": "code",
   "execution_count": 86,
   "metadata": {},
   "outputs": [
    {
     "name": "stdout",
     "output_type": "stream",
     "text": [
      "CPU times: user 6min 56s, sys: 3.44 s, total: 7min\n",
      "Wall time: 16min 23s\n"
     ]
    },
    {
     "data": {
      "text/plain": [
       "'Mission Completed'"
      ]
     },
     "execution_count": 86,
     "metadata": {},
     "output_type": "execute_result"
    }
   ],
   "source": [
    "%%time\n",
    "scrape_to_db('https://play.google.com/store/apps/category/AUTO_AND_VEHICLES/collection/topselling_free')"
   ]
  },
  {
   "cell_type": "code",
   "execution_count": 62,
   "metadata": {
    "scrolled": true
   },
   "outputs": [
    {
     "name": "stdout",
     "output_type": "stream",
     "text": [
      "Something Wrong\n",
      "Something Wrong\n",
      "Something Wrong\n",
      "CPU times: user 6min 54s, sys: 2.71 s, total: 6min 56s\n",
      "Wall time: 12min 7s\n"
     ]
    },
    {
     "data": {
      "text/plain": [
       "'Mission Completed'"
      ]
     },
     "execution_count": 62,
     "metadata": {},
     "output_type": "execute_result"
    }
   ],
   "source": [
    "%%time\n",
    "scrape_to_db('https://play.google.com/store/apps/category/BEAUTY/collection/topselling_free')"
   ]
  },
  {
   "cell_type": "code",
   "execution_count": 61,
   "metadata": {},
   "outputs": [
    {
     "name": "stdout",
     "output_type": "stream",
     "text": [
      "CPU times: user 8min 28s, sys: 3.66 s, total: 8min 32s\n",
      "Wall time: 15min 38s\n"
     ]
    },
    {
     "data": {
      "text/plain": [
       "'Mission Completed'"
      ]
     },
     "execution_count": 61,
     "metadata": {},
     "output_type": "execute_result"
    }
   ],
   "source": [
    "%%time\n",
    "scrape_to_db('https://play.google.com/store/apps/category/BOOKS_AND_REFERENCE/collection/topselling_free')"
   ]
  },
  {
   "cell_type": "code",
   "execution_count": 60,
   "metadata": {},
   "outputs": [
    {
     "name": "stdout",
     "output_type": "stream",
     "text": [
      "Something Wrong\n",
      "Something Wrong\n",
      "Something Wrong\n",
      "Something Wrong\n",
      "Something Wrong\n",
      "Something Wrong\n",
      "Something Wrong\n",
      "Something Wrong\n",
      "CPU times: user 6min 26s, sys: 2.13 s, total: 6min 28s\n",
      "Wall time: 11min 56s\n"
     ]
    },
    {
     "data": {
      "text/plain": [
       "'Mission Completed'"
      ]
     },
     "execution_count": 60,
     "metadata": {},
     "output_type": "execute_result"
    }
   ],
   "source": [
    "%%time\n",
    "scrape_to_db('https://play.google.com/store/apps/category/DATING/collection/topselling_free')"
   ]
  },
  {
   "cell_type": "code",
   "execution_count": 38,
   "metadata": {},
   "outputs": [
    {
     "name": "stdout",
     "output_type": "stream",
     "text": [
      "Something Wrong\n"
     ]
    },
    {
     "data": {
      "text/plain": [
       "'Mission Completed'"
      ]
     },
     "execution_count": 38,
     "metadata": {},
     "output_type": "execute_result"
    }
   ],
   "source": [
    "scrape_to_db('https://play.google.com/store/apps/category/COMICS/collection/topselling_free')"
   ]
  },
  {
   "cell_type": "code",
   "execution_count": null,
   "metadata": {
    "collapsed": true
   },
   "outputs": [],
   "source": [
    "import time"
   ]
  },
  {
   "cell_type": "code",
   "execution_count": 18,
   "metadata": {},
   "outputs": [
    {
     "ename": "UnboundLocalError",
     "evalue": "local variable 'rank' referenced before assignment",
     "output_type": "error",
     "traceback": [
      "\u001b[0;31m---------------------------------------------------------------------------\u001b[0m",
      "\u001b[0;31mUnboundLocalError\u001b[0m                         Traceback (most recent call last)",
      "\u001b[0;32m<timed exec>\u001b[0m in \u001b[0;36m<module>\u001b[0;34m()\u001b[0m\n",
      "\u001b[0;32m<ipython-input-17-06deb85d3089>\u001b[0m in \u001b[0;36mscrape_to_db\u001b[0;34m(url)\u001b[0m\n\u001b[1;32m     32\u001b[0m         \u001b[0mrank\u001b[0m \u001b[0;34m=\u001b[0m \u001b[0msoup\u001b[0m\u001b[0;34m.\u001b[0m\u001b[0mselect\u001b[0m\u001b[0;34m(\u001b[0m\u001b[0;34m'div.id-card-list.card-list.two-cards > div > div > div.details > a.title'\u001b[0m\u001b[0;34m)\u001b[0m\u001b[0;34m\u001b[0m\u001b[0m\n\u001b[1;32m     33\u001b[0m \u001b[0;34m\u001b[0m\u001b[0m\n\u001b[0;32m---> 34\u001b[0;31m     \u001b[0;32mfor\u001b[0m \u001b[0mnum\u001b[0m\u001b[0;34m,\u001b[0m \u001b[0mitem\u001b[0m \u001b[0;32min\u001b[0m \u001b[0menumerate\u001b[0m\u001b[0;34m(\u001b[0m\u001b[0mrank\u001b[0m\u001b[0;34m)\u001b[0m\u001b[0;34m:\u001b[0m\u001b[0;34m\u001b[0m\u001b[0m\n\u001b[0m\u001b[1;32m     35\u001b[0m         \u001b[0madders\u001b[0m \u001b[0;34m=\u001b[0m \u001b[0mstr\u001b[0m\u001b[0;34m(\u001b[0m\u001b[0mitem\u001b[0m\u001b[0;34m)\u001b[0m\u001b[0;34m.\u001b[0m\u001b[0msplit\u001b[0m\u001b[0;34m(\u001b[0m\u001b[0;34m)\u001b[0m\u001b[0;34m[\u001b[0m\u001b[0;36m3\u001b[0m\u001b[0;34m]\u001b[0m\u001b[0;34m\u001b[0m\u001b[0m\n\u001b[1;32m     36\u001b[0m         \u001b[0madder\u001b[0m \u001b[0;34m=\u001b[0m \u001b[0mre\u001b[0m\u001b[0;34m.\u001b[0m\u001b[0msearch\u001b[0m\u001b[0;34m(\u001b[0m\u001b[0;34m'/[\\w/?=.]+'\u001b[0m\u001b[0;34m,\u001b[0m \u001b[0madders\u001b[0m\u001b[0;34m)\u001b[0m\u001b[0;34m\u001b[0m\u001b[0m\n",
      "\u001b[0;31mUnboundLocalError\u001b[0m: local variable 'rank' referenced before assignment"
     ]
    }
   ],
   "source": [
    "%%time\n",
    "for num, item in enumerate(target_url):\n",
    "    scrape_to_db(item)\n",
    "    print(num,\"th scraping has been finished.\")\n",
    "    print(\"Take a break for a while, then do the next scraping\")\n",
    "    time.sleep(5)"
   ]
  },
  {
   "cell_type": "code",
   "execution_count": null,
   "metadata": {
    "collapsed": true
   },
   "outputs": [],
   "source": []
  },
  {
   "cell_type": "code",
   "execution_count": null,
   "metadata": {
    "collapsed": true
   },
   "outputs": [],
   "source": []
  },
  {
   "cell_type": "code",
   "execution_count": null,
   "metadata": {
    "collapsed": true
   },
   "outputs": [],
   "source": []
  },
  {
   "cell_type": "code",
   "execution_count": null,
   "metadata": {
    "collapsed": true
   },
   "outputs": [],
   "source": []
  },
  {
   "cell_type": "code",
   "execution_count": null,
   "metadata": {
    "collapsed": true
   },
   "outputs": [],
   "source": []
  },
  {
   "cell_type": "code",
   "execution_count": null,
   "metadata": {
    "collapsed": true
   },
   "outputs": [],
   "source": []
  },
  {
   "cell_type": "markdown",
   "metadata": {},
   "source": [
    "### CSV file insert into mongoDB"
   ]
  },
  {
   "cell_type": "code",
   "execution_count": null,
   "metadata": {
    "collapsed": true
   },
   "outputs": [],
   "source": [
    "def csv_to col(username, password):\n",
    "    connection = pymongo.MongoClient('mongodb://{}:{}@13.125.31.93'.format(username, passowrd))\n",
    "    db = connection.app_review \n",
    "    collection = db.reviews\n",
    "\n",
    "    data = pd.read_csv('dataset.csv')\n",
    "    data_json = json.loads(data.to_json(orient='records'))\n",
    "    collection.insert_many(data_json)\n",
    "\n",
    "    connection.close()\n",
    "    return \"dump completed\"\n",
    "\n",
    "csv_to_col('oniun', 'wkatlf2ehd')"
   ]
  },
  {
   "cell_type": "markdown",
   "metadata": {},
   "source": [
    "### mongoDB collection to pandas DataFrame"
   ]
  },
  {
   "cell_type": "code",
   "execution_count": 92,
   "metadata": {},
   "outputs": [
    {
     "name": "stdout",
     "output_type": "stream",
     "text": [
      "Now you can use mongoDB collection as DataFrame\n",
      "<class 'pandas.core.frame.DataFrame'>\n",
      "RangeIndex: 102692 entries, 0 to 102691\n",
      "Data columns (total 6 columns):\n",
      "app       102692 non-null object\n",
      "_id       102692 non-null object\n",
      "date      102692 non-null object\n",
      "rate      102692 non-null object\n",
      "review    102692 non-null object\n",
      "user      102692 non-null object\n",
      "dtypes: object(6)\n",
      "memory usage: 4.7+ MB\n"
     ]
    }
   ],
   "source": [
    "import pandas as pd\n",
    "from pymongo import MongoClient\n",
    "\n",
    "def col_to_df(username, password):\n",
    "    \n",
    "    # make connection to mongodb\n",
    "    connection = pymongo.MongoClient('mongodb://{}:{}@13.125.31.93'.format(username, password))\n",
    "    db = connection.app_review\n",
    "    review = pd.DataFrame(list(db.reviews.find()))\n",
    "\n",
    "    connection.close()\n",
    "    print(\"Now you can use mongoDB collection as DataFrame\")\n",
    "\n",
    "    # preprocessing: drop_duplication, etc\n",
    "    review = review.drop_duplicates(subset=['app', 'user', 'review', 'date', 'rate'], keep='first')\n",
    "    review = review.drop_duplicates(subset=['review'], keep='first')\n",
    "    review = review.set_index('app')\n",
    "    review = review.drop(['0', '1', '2', '3', '4', '5', '6', '7', '8', '9'])\n",
    "    review = review.reset_index()\n",
    "    review['rate'] = review['rate'].replace(['0'], ['1'])\n",
    "\n",
    "    # store review as csv file\n",
    "    review.to_csv('data/dataset.csv', sep=',', encoding='utf-8', index=False)\n",
    "    \n",
    "    return review.info()"
   ]
  },
  {
   "cell_type": "code",
   "execution_count": 93,
   "metadata": {},
   "outputs": [],
   "source": [
    "col_to_df('oniun', 'wkatlf2ehd')\n",
    "review = pd.read_csv('data/dataset.csv')"
   ]
  },
  {
   "cell_type": "code",
   "execution_count": 94,
   "metadata": {},
   "outputs": [
    {
     "data": {
      "text/plain": [
       "102692"
      ]
     },
     "execution_count": 94,
     "metadata": {},
     "output_type": "execute_result"
    }
   ],
   "source": [
    "review['review'].nunique()"
   ]
  },
  {
   "cell_type": "code",
   "execution_count": 95,
   "metadata": {},
   "outputs": [
    {
     "data": {
      "text/plain": [
       "3725"
      ]
     },
     "execution_count": 95,
     "metadata": {},
     "output_type": "execute_result"
    }
   ],
   "source": [
    "review['app'].nunique()"
   ]
  },
  {
   "cell_type": "code",
   "execution_count": 100,
   "metadata": {},
   "outputs": [
    {
     "data": {
      "text/plain": [
       "app       0\n",
       "_id       0\n",
       "date      0\n",
       "rate      0\n",
       "review    0\n",
       "user      0\n",
       "dtype: int64"
      ]
     },
     "execution_count": 100,
     "metadata": {},
     "output_type": "execute_result"
    }
   ],
   "source": [
    "review.isnull().sum()\n"
   ]
  },
  {
   "cell_type": "code",
   "execution_count": 97,
   "metadata": {},
   "outputs": [
    {
     "data": {
      "text/plain": [
       "app       object\n",
       "_id       object\n",
       "date      object\n",
       "rate       int64\n",
       "review    object\n",
       "user      object\n",
       "dtype: object"
      ]
     },
     "execution_count": 97,
     "metadata": {},
     "output_type": "execute_result"
    }
   ],
   "source": [
    "review.dtypes"
   ]
  },
  {
   "cell_type": "code",
   "execution_count": 101,
   "metadata": {},
   "outputs": [
    {
     "data": {
      "text/plain": [
       "(102692, 6)"
      ]
     },
     "execution_count": 101,
     "metadata": {},
     "output_type": "execute_result"
    }
   ],
   "source": [
    "review.shape"
   ]
  },
  {
   "cell_type": "code",
   "execution_count": 102,
   "metadata": {},
   "outputs": [
    {
     "data": {
      "text/html": [
       "<div>\n",
       "<style>\n",
       "    .dataframe thead tr:only-child th {\n",
       "        text-align: right;\n",
       "    }\n",
       "\n",
       "    .dataframe thead th {\n",
       "        text-align: left;\n",
       "    }\n",
       "\n",
       "    .dataframe tbody tr th {\n",
       "        vertical-align: top;\n",
       "    }\n",
       "</style>\n",
       "<table border=\"1\" class=\"dataframe\">\n",
       "  <thead>\n",
       "    <tr style=\"text-align: right;\">\n",
       "      <th></th>\n",
       "      <th>app</th>\n",
       "      <th>_id</th>\n",
       "      <th>date</th>\n",
       "      <th>rate</th>\n",
       "      <th>review</th>\n",
       "      <th>user</th>\n",
       "    </tr>\n",
       "  </thead>\n",
       "  <tbody>\n",
       "    <tr>\n",
       "      <th>102687</th>\n",
       "      <td>SmiRing</td>\n",
       "      <td>5a2ab22e8abf5a3f6f3b1138</td>\n",
       "      <td>2012년 12월 10일</td>\n",
       "      <td>5</td>\n",
       "      <td>신기해요 와~신기해요...근대 어떻게 이런 평범한 소릴듣고 잠을 자지?</td>\n",
       "      <td>정윤지</td>\n",
       "    </tr>\n",
       "    <tr>\n",
       "      <th>102688</th>\n",
       "      <td>SmiRing</td>\n",
       "      <td>5a2ab22e8abf5a3f6f3b1139</td>\n",
       "      <td>2015년 8월 26일</td>\n",
       "      <td>1</td>\n",
       "      <td>앙 전혀 효과 못봄 아기가 들을수록 난감하게 울어대요 이걸 막 던져가주구 이걸 지웟어용</td>\n",
       "      <td>리릴</td>\n",
       "    </tr>\n",
       "    <tr>\n",
       "      <th>102689</th>\n",
       "      <td>SmiRing</td>\n",
       "      <td>5a2ab22e8abf5a3f6f3b113a</td>\n",
       "      <td>2013년 1월 19일</td>\n",
       "      <td>5</td>\n",
       "      <td>수중+고동이젤조아요잘때 잠자기조은소</td>\n",
       "      <td>이효배</td>\n",
       "    </tr>\n",
       "    <tr>\n",
       "      <th>102690</th>\n",
       "      <td>마미새미</td>\n",
       "      <td>5a2ab23d8abf5a3f6f3b113b</td>\n",
       "      <td>2017년 5월 5일</td>\n",
       "      <td>5</td>\n",
       "      <td>무료수업 듣고싶어요</td>\n",
       "      <td>붐3 Boom3</td>\n",
       "    </tr>\n",
       "    <tr>\n",
       "      <th>102691</th>\n",
       "      <td>마미새미</td>\n",
       "      <td>5a2ab23d8abf5a3f6f3b113d</td>\n",
       "      <td>2017년 9월 1일</td>\n",
       "      <td>5</td>\n",
       "      <td>진석이 코 개큼</td>\n",
       "      <td>영채</td>\n",
       "    </tr>\n",
       "  </tbody>\n",
       "</table>\n",
       "</div>"
      ],
      "text/plain": [
       "              app                       _id           date  rate  \\\n",
       "102687    SmiRing  5a2ab22e8abf5a3f6f3b1138  2012년 12월 10일     5   \n",
       "102688    SmiRing  5a2ab22e8abf5a3f6f3b1139   2015년 8월 26일     1   \n",
       "102689    SmiRing  5a2ab22e8abf5a3f6f3b113a   2013년 1월 19일     5   \n",
       "102690      마미새미   5a2ab23d8abf5a3f6f3b113b    2017년 5월 5일     5   \n",
       "102691      마미새미   5a2ab23d8abf5a3f6f3b113d    2017년 9월 1일     5   \n",
       "\n",
       "                                                  review        user  \n",
       "102687           신기해요 와~신기해요...근대 어떻게 이런 평범한 소릴듣고 잠을 자지?        정윤지   \n",
       "102688  앙 전혀 효과 못봄 아기가 들을수록 난감하게 울어대요 이걸 막 던져가주구 이걸 지웟어용         리릴   \n",
       "102689                               수중+고동이젤조아요잘때 잠자기조은소        이효배   \n",
       "102690                                        무료수업 듣고싶어요   붐3 Boom3   \n",
       "102691                                          진석이 코 개큼         영채   "
      ]
     },
     "execution_count": 102,
     "metadata": {},
     "output_type": "execute_result"
    }
   ],
   "source": [
    "review.tail()"
   ]
  },
  {
   "cell_type": "code",
   "execution_count": 103,
   "metadata": {
    "scrolled": true
   },
   "outputs": [
    {
     "data": {
      "text/html": [
       "<div>\n",
       "<style>\n",
       "    .dataframe thead tr:only-child th {\n",
       "        text-align: right;\n",
       "    }\n",
       "\n",
       "    .dataframe thead th {\n",
       "        text-align: left;\n",
       "    }\n",
       "\n",
       "    .dataframe tbody tr th {\n",
       "        vertical-align: top;\n",
       "    }\n",
       "</style>\n",
       "<table border=\"1\" class=\"dataframe\">\n",
       "  <thead>\n",
       "    <tr style=\"text-align: right;\">\n",
       "      <th></th>\n",
       "      <th>_id</th>\n",
       "      <th>date</th>\n",
       "      <th>rate</th>\n",
       "      <th>review</th>\n",
       "      <th>user</th>\n",
       "    </tr>\n",
       "    <tr>\n",
       "      <th>app</th>\n",
       "      <th></th>\n",
       "      <th></th>\n",
       "      <th></th>\n",
       "      <th></th>\n",
       "      <th></th>\n",
       "    </tr>\n",
       "  </thead>\n",
       "  <tbody>\n",
       "    <tr>\n",
       "      <th></th>\n",
       "      <td>752</td>\n",
       "      <td>752</td>\n",
       "      <td>752</td>\n",
       "      <td>752</td>\n",
       "      <td>752</td>\n",
       "    </tr>\n",
       "    <tr>\n",
       "      <th>010대리운전</th>\n",
       "      <td>1</td>\n",
       "      <td>1</td>\n",
       "      <td>1</td>\n",
       "      <td>1</td>\n",
       "      <td>1</td>\n",
       "    </tr>\n",
       "    <tr>\n",
       "      <th>1004서비스</th>\n",
       "      <td>3</td>\n",
       "      <td>3</td>\n",
       "      <td>3</td>\n",
       "      <td>3</td>\n",
       "      <td>3</td>\n",
       "    </tr>\n",
       "    <tr>\n",
       "      <th>10타줄이는 골프</th>\n",
       "      <td>5</td>\n",
       "      <td>5</td>\n",
       "      <td>5</td>\n",
       "      <td>5</td>\n",
       "      <td>5</td>\n",
       "    </tr>\n",
       "    <tr>\n",
       "      <th>119퀵서비스</th>\n",
       "      <td>7</td>\n",
       "      <td>7</td>\n",
       "      <td>7</td>\n",
       "      <td>7</td>\n",
       "      <td>7</td>\n",
       "    </tr>\n",
       "    <tr>\n",
       "      <th>11번가 쇼킹딜</th>\n",
       "      <td>38</td>\n",
       "      <td>38</td>\n",
       "      <td>38</td>\n",
       "      <td>38</td>\n",
       "      <td>38</td>\n",
       "    </tr>\n",
       "    <tr>\n",
       "      <th>15885585 행복한길대리운전</th>\n",
       "      <td>5</td>\n",
       "      <td>5</td>\n",
       "      <td>5</td>\n",
       "      <td>5</td>\n",
       "      <td>5</td>\n",
       "    </tr>\n",
       "    <tr>\n",
       "      <th>1800</th>\n",
       "      <td>4</td>\n",
       "      <td>4</td>\n",
       "      <td>4</td>\n",
       "      <td>4</td>\n",
       "      <td>4</td>\n",
       "    </tr>\n",
       "    <tr>\n",
       "      <th>1Q MTS</th>\n",
       "      <td>42</td>\n",
       "      <td>42</td>\n",
       "      <td>42</td>\n",
       "      <td>42</td>\n",
       "      <td>42</td>\n",
       "    </tr>\n",
       "    <tr>\n",
       "      <th>1Q bank Global</th>\n",
       "      <td>39</td>\n",
       "      <td>39</td>\n",
       "      <td>39</td>\n",
       "      <td>39</td>\n",
       "      <td>39</td>\n",
       "    </tr>\n",
       "    <tr>\n",
       "      <th>1Q bank 기업</th>\n",
       "      <td>40</td>\n",
       "      <td>40</td>\n",
       "      <td>40</td>\n",
       "      <td>40</td>\n",
       "      <td>40</td>\n",
       "    </tr>\n",
       "    <tr>\n",
       "      <th>1Q 통합인증</th>\n",
       "      <td>40</td>\n",
       "      <td>40</td>\n",
       "      <td>40</td>\n",
       "      <td>40</td>\n",
       "      <td>40</td>\n",
       "    </tr>\n",
       "    <tr>\n",
       "      <th>1그램플레이어</th>\n",
       "      <td>6</td>\n",
       "      <td>6</td>\n",
       "      <td>6</td>\n",
       "      <td>6</td>\n",
       "      <td>6</td>\n",
       "    </tr>\n",
       "    <tr>\n",
       "      <th>1년 10번 성경듣기</th>\n",
       "      <td>40</td>\n",
       "      <td>40</td>\n",
       "      <td>40</td>\n",
       "      <td>40</td>\n",
       "      <td>40</td>\n",
       "    </tr>\n",
       "    <tr>\n",
       "      <th>2017 천하운세</th>\n",
       "      <td>39</td>\n",
       "      <td>39</td>\n",
       "      <td>39</td>\n",
       "      <td>39</td>\n",
       "      <td>39</td>\n",
       "    </tr>\n",
       "    <tr>\n",
       "      <th>2017갓오브하이스쿨 with NAVER WEBTOON</th>\n",
       "      <td>39</td>\n",
       "      <td>39</td>\n",
       "      <td>39</td>\n",
       "      <td>39</td>\n",
       "      <td>39</td>\n",
       "    </tr>\n",
       "    <tr>\n",
       "      <th>2018 년 FIFA 월드컵</th>\n",
       "      <td>1</td>\n",
       "      <td>1</td>\n",
       "      <td>1</td>\n",
       "      <td>1</td>\n",
       "      <td>1</td>\n",
       "    </tr>\n",
       "    <tr>\n",
       "      <th>2018 점신PRO</th>\n",
       "      <td>37</td>\n",
       "      <td>37</td>\n",
       "      <td>37</td>\n",
       "      <td>37</td>\n",
       "      <td>37</td>\n",
       "    </tr>\n",
       "    <tr>\n",
       "      <th>2018 평창 공식앱</th>\n",
       "      <td>41</td>\n",
       "      <td>41</td>\n",
       "      <td>41</td>\n",
       "      <td>41</td>\n",
       "      <td>41</td>\n",
       "    </tr>\n",
       "    <tr>\n",
       "      <th>2018 평창 입장권</th>\n",
       "      <td>2</td>\n",
       "      <td>2</td>\n",
       "      <td>2</td>\n",
       "      <td>2</td>\n",
       "      <td>2</td>\n",
       "    </tr>\n",
       "    <tr>\n",
       "      <th>2018학년도 미술대학 정시진학백과</th>\n",
       "      <td>17</td>\n",
       "      <td>17</td>\n",
       "      <td>17</td>\n",
       "      <td>17</td>\n",
       "      <td>17</td>\n",
       "    </tr>\n",
       "    <tr>\n",
       "      <th>21드레스룸</th>\n",
       "      <td>8</td>\n",
       "      <td>8</td>\n",
       "      <td>8</td>\n",
       "      <td>8</td>\n",
       "      <td>8</td>\n",
       "    </tr>\n",
       "    <tr>\n",
       "      <th>2버디</th>\n",
       "      <td>2</td>\n",
       "      <td>2</td>\n",
       "      <td>2</td>\n",
       "      <td>2</td>\n",
       "      <td>2</td>\n",
       "    </tr>\n",
       "    <tr>\n",
       "      <th>350대리운전</th>\n",
       "      <td>2</td>\n",
       "      <td>2</td>\n",
       "      <td>2</td>\n",
       "      <td>2</td>\n",
       "      <td>2</td>\n",
       "    </tr>\n",
       "    <tr>\n",
       "      <th>365Scores</th>\n",
       "      <td>27</td>\n",
       "      <td>27</td>\n",
       "      <td>27</td>\n",
       "      <td>27</td>\n",
       "      <td>27</td>\n",
       "    </tr>\n",
       "    <tr>\n",
       "      <th>365mc 지방흡입 수술 후 톡톡</th>\n",
       "      <td>2</td>\n",
       "      <td>2</td>\n",
       "      <td>2</td>\n",
       "      <td>2</td>\n",
       "      <td>2</td>\n",
       "    </tr>\n",
       "    <tr>\n",
       "      <th>365mc멤버쉽</th>\n",
       "      <td>12</td>\n",
       "      <td>12</td>\n",
       "      <td>12</td>\n",
       "      <td>12</td>\n",
       "      <td>12</td>\n",
       "    </tr>\n",
       "    <tr>\n",
       "      <th>365일 무료픽</th>\n",
       "      <td>39</td>\n",
       "      <td>39</td>\n",
       "      <td>39</td>\n",
       "      <td>39</td>\n",
       "      <td>39</td>\n",
       "    </tr>\n",
       "    <tr>\n",
       "      <th>37</th>\n",
       "      <td>1</td>\n",
       "      <td>1</td>\n",
       "      <td>1</td>\n",
       "      <td>1</td>\n",
       "      <td>1</td>\n",
       "    </tr>\n",
       "    <tr>\n",
       "      <th>3D Bones and Organs</th>\n",
       "      <td>13</td>\n",
       "      <td>13</td>\n",
       "      <td>13</td>\n",
       "      <td>13</td>\n",
       "      <td>13</td>\n",
       "    </tr>\n",
       "    <tr>\n",
       "      <th>...</th>\n",
       "      <td>...</td>\n",
       "      <td>...</td>\n",
       "      <td>...</td>\n",
       "      <td>...</td>\n",
       "      <td>...</td>\n",
       "    </tr>\n",
       "    <tr>\n",
       "      <th>짱웃긴만화27</th>\n",
       "      <td>40</td>\n",
       "      <td>40</td>\n",
       "      <td>40</td>\n",
       "      <td>40</td>\n",
       "      <td>40</td>\n",
       "    </tr>\n",
       "    <tr>\n",
       "      <th>차이의 놀이</th>\n",
       "      <td>32</td>\n",
       "      <td>32</td>\n",
       "      <td>32</td>\n",
       "      <td>32</td>\n",
       "      <td>32</td>\n",
       "    </tr>\n",
       "    <tr>\n",
       "      <th>채팅몬</th>\n",
       "      <td>2</td>\n",
       "      <td>2</td>\n",
       "      <td>2</td>\n",
       "      <td>2</td>\n",
       "      <td>2</td>\n",
       "    </tr>\n",
       "    <tr>\n",
       "      <th>카카오맵</th>\n",
       "      <td>12</td>\n",
       "      <td>12</td>\n",
       "      <td>12</td>\n",
       "      <td>12</td>\n",
       "      <td>12</td>\n",
       "    </tr>\n",
       "    <tr>\n",
       "      <th>카카오뱅크</th>\n",
       "      <td>37</td>\n",
       "      <td>37</td>\n",
       "      <td>37</td>\n",
       "      <td>37</td>\n",
       "      <td>37</td>\n",
       "    </tr>\n",
       "    <tr>\n",
       "      <th>카카오페이지 KakaoPage</th>\n",
       "      <td>40</td>\n",
       "      <td>40</td>\n",
       "      <td>40</td>\n",
       "      <td>40</td>\n",
       "      <td>40</td>\n",
       "    </tr>\n",
       "    <tr>\n",
       "      <th>카카오헤어샵 KakaoHairshop</th>\n",
       "      <td>40</td>\n",
       "      <td>40</td>\n",
       "      <td>40</td>\n",
       "      <td>40</td>\n",
       "      <td>40</td>\n",
       "    </tr>\n",
       "    <tr>\n",
       "      <th>코레일톡</th>\n",
       "      <td>10</td>\n",
       "      <td>10</td>\n",
       "      <td>10</td>\n",
       "      <td>10</td>\n",
       "      <td>10</td>\n",
       "    </tr>\n",
       "    <tr>\n",
       "      <th>콰이 Kwai</th>\n",
       "      <td>40</td>\n",
       "      <td>40</td>\n",
       "      <td>40</td>\n",
       "      <td>40</td>\n",
       "      <td>40</td>\n",
       "    </tr>\n",
       "    <tr>\n",
       "      <th>쿠팡</th>\n",
       "      <td>52</td>\n",
       "      <td>52</td>\n",
       "      <td>52</td>\n",
       "      <td>52</td>\n",
       "      <td>52</td>\n",
       "    </tr>\n",
       "    <tr>\n",
       "      <th>키네마스터</th>\n",
       "      <td>58</td>\n",
       "      <td>58</td>\n",
       "      <td>58</td>\n",
       "      <td>58</td>\n",
       "      <td>58</td>\n",
       "    </tr>\n",
       "    <tr>\n",
       "      <th>터치엔 엠백신 for Web</th>\n",
       "      <td>8</td>\n",
       "      <td>8</td>\n",
       "      <td>8</td>\n",
       "      <td>8</td>\n",
       "      <td>8</td>\n",
       "    </tr>\n",
       "    <tr>\n",
       "      <th>테라M</th>\n",
       "      <td>4</td>\n",
       "      <td>4</td>\n",
       "      <td>4</td>\n",
       "      <td>4</td>\n",
       "      <td>4</td>\n",
       "    </tr>\n",
       "    <tr>\n",
       "      <th>토스</th>\n",
       "      <td>36</td>\n",
       "      <td>36</td>\n",
       "      <td>36</td>\n",
       "      <td>36</td>\n",
       "      <td>36</td>\n",
       "    </tr>\n",
       "    <tr>\n",
       "      <th>통행료서비스</th>\n",
       "      <td>39</td>\n",
       "      <td>39</td>\n",
       "      <td>39</td>\n",
       "      <td>39</td>\n",
       "      <td>39</td>\n",
       "    </tr>\n",
       "    <tr>\n",
       "      <th>투믹스</th>\n",
       "      <td>5</td>\n",
       "      <td>5</td>\n",
       "      <td>5</td>\n",
       "      <td>5</td>\n",
       "      <td>5</td>\n",
       "    </tr>\n",
       "    <tr>\n",
       "      <th>튜브다운</th>\n",
       "      <td>40</td>\n",
       "      <td>40</td>\n",
       "      <td>40</td>\n",
       "      <td>40</td>\n",
       "      <td>40</td>\n",
       "    </tr>\n",
       "    <tr>\n",
       "      <th>트위터</th>\n",
       "      <td>16</td>\n",
       "      <td>16</td>\n",
       "      <td>16</td>\n",
       "      <td>16</td>\n",
       "      <td>16</td>\n",
       "    </tr>\n",
       "    <tr>\n",
       "      <th>티빙</th>\n",
       "      <td>3</td>\n",
       "      <td>3</td>\n",
       "      <td>3</td>\n",
       "      <td>3</td>\n",
       "      <td>3</td>\n",
       "    </tr>\n",
       "    <tr>\n",
       "      <th>티업비전 T</th>\n",
       "      <td>35</td>\n",
       "      <td>35</td>\n",
       "      <td>35</td>\n",
       "      <td>35</td>\n",
       "      <td>35</td>\n",
       "    </tr>\n",
       "    <tr>\n",
       "      <th>팟캐스트</th>\n",
       "      <td>40</td>\n",
       "      <td>40</td>\n",
       "      <td>40</td>\n",
       "      <td>40</td>\n",
       "      <td>40</td>\n",
       "    </tr>\n",
       "    <tr>\n",
       "      <th>페이트</th>\n",
       "      <td>9</td>\n",
       "      <td>9</td>\n",
       "      <td>9</td>\n",
       "      <td>9</td>\n",
       "      <td>9</td>\n",
       "    </tr>\n",
       "    <tr>\n",
       "      <th>피망 포커</th>\n",
       "      <td>40</td>\n",
       "      <td>40</td>\n",
       "      <td>40</td>\n",
       "      <td>40</td>\n",
       "      <td>40</td>\n",
       "    </tr>\n",
       "    <tr>\n",
       "      <th>한국교직원공제회 The</th>\n",
       "      <td>13</td>\n",
       "      <td>13</td>\n",
       "      <td>13</td>\n",
       "      <td>13</td>\n",
       "      <td>13</td>\n",
       "    </tr>\n",
       "    <tr>\n",
       "      <th>해피타임즈</th>\n",
       "      <td>39</td>\n",
       "      <td>39</td>\n",
       "      <td>39</td>\n",
       "      <td>39</td>\n",
       "      <td>39</td>\n",
       "    </tr>\n",
       "    <tr>\n",
       "      <th>헤어핏</th>\n",
       "      <td>40</td>\n",
       "      <td>40</td>\n",
       "      <td>40</td>\n",
       "      <td>40</td>\n",
       "      <td>40</td>\n",
       "    </tr>\n",
       "    <tr>\n",
       "      <th>현대Hmall</th>\n",
       "      <td>2</td>\n",
       "      <td>2</td>\n",
       "      <td>2</td>\n",
       "      <td>2</td>\n",
       "      <td>2</td>\n",
       "    </tr>\n",
       "    <tr>\n",
       "      <th>홈앤쇼핑</th>\n",
       "      <td>20</td>\n",
       "      <td>20</td>\n",
       "      <td>20</td>\n",
       "      <td>20</td>\n",
       "      <td>20</td>\n",
       "    </tr>\n",
       "    <tr>\n",
       "      <th>화해</th>\n",
       "      <td>40</td>\n",
       "      <td>40</td>\n",
       "      <td>40</td>\n",
       "      <td>40</td>\n",
       "      <td>40</td>\n",
       "    </tr>\n",
       "    <tr>\n",
       "      <th>히트맨 스나이퍼</th>\n",
       "      <td>40</td>\n",
       "      <td>40</td>\n",
       "      <td>40</td>\n",
       "      <td>40</td>\n",
       "      <td>40</td>\n",
       "    </tr>\n",
       "  </tbody>\n",
       "</table>\n",
       "<p>3725 rows × 5 columns</p>\n",
       "</div>"
      ],
      "text/plain": [
       "                                  _id  date  rate  review  user\n",
       "app                                                            \n",
       "                                  752   752   752     752   752\n",
       "  010대리운전                           1     1     1       1     1\n",
       "  1004서비스                           3     3     3       3     3\n",
       "  10타줄이는 골프                         5     5     5       5     5\n",
       "  119퀵서비스                           7     7     7       7     7\n",
       "  11번가 쇼킹딜                         38    38    38      38    38\n",
       "  15885585 행복한길대리운전                 5     5     5       5     5\n",
       "  1800                              4     4     4       4     4\n",
       "  1Q MTS                           42    42    42      42    42\n",
       "  1Q bank Global                   39    39    39      39    39\n",
       "  1Q bank 기업                       40    40    40      40    40\n",
       "  1Q 통합인증                          40    40    40      40    40\n",
       "  1그램플레이어                           6     6     6       6     6\n",
       "  1년 10번 성경듣기                      40    40    40      40    40\n",
       "  2017 천하운세                        39    39    39      39    39\n",
       "  2017갓오브하이스쿨 with NAVER WEBTOON   39    39    39      39    39\n",
       "  2018 년 FIFA 월드컵                   1     1     1       1     1\n",
       "  2018 점신PRO                       37    37    37      37    37\n",
       "  2018 평창 공식앱                      41    41    41      41    41\n",
       "  2018 평창 입장권                       2     2     2       2     2\n",
       "  2018학년도 미술대학 정시진학백과              17    17    17      17    17\n",
       "  21드레스룸                            8     8     8       8     8\n",
       "  2버디                               2     2     2       2     2\n",
       "  350대리운전                           2     2     2       2     2\n",
       "  365Scores                        27    27    27      27    27\n",
       "  365mc 지방흡입 수술 후 톡톡                2     2     2       2     2\n",
       "  365mc멤버쉽                         12    12    12      12    12\n",
       "  365일 무료픽                         39    39    39      39    39\n",
       "  37                                1     1     1       1     1\n",
       "  3D Bones and Organs              13    13    13      13    13\n",
       "...                               ...   ...   ...     ...   ...\n",
       " 짱웃긴만화27                           40    40    40      40    40\n",
       " 차이의 놀이                            32    32    32      32    32\n",
       " 채팅몬                                2     2     2       2     2\n",
       " 카카오맵                              12    12    12      12    12\n",
       " 카카오뱅크                             37    37    37      37    37\n",
       " 카카오페이지 KakaoPage                  40    40    40      40    40\n",
       " 카카오헤어샵 KakaoHairshop              40    40    40      40    40\n",
       " 코레일톡                              10    10    10      10    10\n",
       " 콰이 Kwai                           40    40    40      40    40\n",
       " 쿠팡                                52    52    52      52    52\n",
       " 키네마스터                             58    58    58      58    58\n",
       " 터치엔 엠백신 for Web                    8     8     8       8     8\n",
       " 테라M                                4     4     4       4     4\n",
       " 토스                                36    36    36      36    36\n",
       " 통행료서비스                            39    39    39      39    39\n",
       " 투믹스                                5     5     5       5     5\n",
       " 튜브다운                              40    40    40      40    40\n",
       " 트위터                               16    16    16      16    16\n",
       " 티빙                                 3     3     3       3     3\n",
       " 티업비전 T                            35    35    35      35    35\n",
       " 팟캐스트                              40    40    40      40    40\n",
       " 페이트                                9     9     9       9     9\n",
       " 피망 포커                             40    40    40      40    40\n",
       " 한국교직원공제회 The                      13    13    13      13    13\n",
       " 해피타임즈                             39    39    39      39    39\n",
       " 헤어핏                               40    40    40      40    40\n",
       " 현대Hmall                            2     2     2       2     2\n",
       " 홈앤쇼핑                              20    20    20      20    20\n",
       " 화해                                40    40    40      40    40\n",
       " 히트맨 스나이퍼                          40    40    40      40    40\n",
       "\n",
       "[3725 rows x 5 columns]"
      ]
     },
     "execution_count": 103,
     "metadata": {},
     "output_type": "execute_result"
    }
   ],
   "source": [
    "review.groupby('app').count()"
   ]
  },
  {
   "cell_type": "code",
   "execution_count": null,
   "metadata": {
    "collapsed": true
   },
   "outputs": [],
   "source": []
  }
 ],
 "metadata": {
  "kernelspec": {
   "display_name": "Python 3",
   "language": "python",
   "name": "python3"
  },
  "language_info": {
   "codemirror_mode": {
    "name": "ipython",
    "version": 3
   },
   "file_extension": ".py",
   "mimetype": "text/x-python",
   "name": "python",
   "nbconvert_exporter": "python",
   "pygments_lexer": "ipython3",
   "version": "3.6.2"
  }
 },
 "nbformat": 4,
 "nbformat_minor": 2
}
